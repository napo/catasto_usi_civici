{
 "cells": [
  {
   "cell_type": "code",
   "execution_count": 1,
   "metadata": {},
   "outputs": [],
   "source": [
    "# https://catastotn.tndigit.it/scarico-catasto-geometrico/it/index.html\n",
    "import geopandas as gpd\n",
    "import pandas as pd\n",
    "import os \n",
    "import glob\n",
    "import requests\n",
    "import zipfile\n",
    "dest_doc = \"..\" + os.sep + \"docs\"\n",
    "donwload_url = \"https://catastotn.tndigit.it/export_semestrale_VL_PUBB/IDR0020230701_TIPOCATSH_CCXXX.zip\"\n",
    "donwload_url = \"https://catastotn.tndigit.it/export_semestrale_VL_PUBB/IDR0020240101_TIPOCATSH_CCXXX.zip\"\n",
    "url_csv = \"https://docs.google.com/spreadsheets/d/e/2PACX-1vSPeLuWTTF1JhWOhhR_ZJmSLBJhMqcJ771xWUeNnuX2co7aV2k2UytMRWU3AZdgfP4gIsWZZHsmx3T7/pub?output=csv\"\n",
    "src_comunicatastaliamministrativi = \"comuni_catastali_amministrativi_trentino.csv\"\n",
    "comunicatastaliamministrativi = pd.read_csv(src_comunicatastaliamministrativi)"
   ]
  },
  {
   "cell_type": "code",
   "execution_count": 2,
   "metadata": {},
   "outputs": [],
   "source": [
    "def getComuneAmministrativo(name):\n",
    "    if name == \"FOLAS\":\n",
    "        name = 'FOLAS-REVIAN'\n",
    "    if name ==\"BORGHETTO A/A\":\n",
    "        name = \"BORGHETTO\"\n",
    "    if name ==\"RONCHI DI ALA\":\n",
    "        name = \"RONCHI\"\n",
    "    amministrativo = \"\"\n",
    "    rname = comunicatastaliamministrativi[comunicatastaliamministrativi['ComuneCatastale'].str.upper() == name.upper()][\"Comune Amministartivo\"]\n",
    "    if len(rname) >0:\n",
    "        amministrativo = rname.values[0]\n",
    "    else: \n",
    "        print(name)\n",
    "    return (amministrativo)"
   ]
  },
  {
   "cell_type": "code",
   "execution_count": 3,
   "metadata": {},
   "outputs": [],
   "source": [
    "df = pd.read_csv(url_csv)\n",
    "codici_catastali = df.codice_comune_catastale.unique()"
   ]
  },
  {
   "cell_type": "code",
   "execution_count": 5,
   "metadata": {},
   "outputs": [],
   "source": [
    "gdflist = []\n",
    "for codice in codici_catastali:\n",
    "    codice = str(codice).zfill(3).replace(\".0\",\"\")\n",
    "    url = donwload_url.replace(\"XXX\",codice)\n",
    "    response = requests.get(url)\n",
    "    # Elenca i nomi dei file che vuoi estrarre\n",
    "    files_to_extract = []\n",
    "    suffix = \"_vl_uniqueparcel_poly\"\n",
    "    suffix = \"_vl_parcel_poly\"\n",
    "    files_to_extract.append(codice + suffix + \".prj\")\n",
    "    files_to_extract.append(codice + suffix + \".shp\")\n",
    "    files_to_extract.append(codice + suffix + \".shx\")\n",
    "    files_to_extract.append(codice + suffix + \".dbf\")\n",
    "    if response.status_code == 200:\n",
    "        with open(\"file.zip\", \"wb\") as file:\n",
    "            file.write(response.content)\n",
    "        with zipfile.ZipFile(\"file.zip\", \"r\") as zip_ref:\n",
    "            for file_name in zip_ref.namelist():\n",
    "                if file_name in files_to_extract:\n",
    "                    zip_ref.extract(file_name)\n",
    "        gdf = gpd.read_file(codice + suffix + \".shp\")\n",
    "        crs = gdf.crs\n",
    "        gdflist.append(gdf)\n",
    "        os.remove(\"file.zip\")\n",
    "        for shp in files_to_extract:\n",
    "            os.remove(shp)\n",
    "parcels = gpd.GeoDataFrame(pd.concat(gdflist, ignore_index=True), crs=crs)"
   ]
  },
  {
   "cell_type": "code",
   "execution_count": 6,
   "metadata": {},
   "outputs": [],
   "source": [
    "parcels['catasto'] = \"non disponibile\"\n",
    "parcels['comune'] = \"NO\"\n",
    "parcels['ufficio'] = \"non disponibile\"\n",
    "parcels['uso1'] = \"non disponibile\"\n",
    "parcels['uso2'] = \"non disponibile\"\n",
    "parcels['partita_tavolare'] = \"non disponibile\"\n",
    "parcels['aggiornamento'] = \"non disponibile\"\n",
    "parcels[\"ettari\"] = \"non disponibile\"\n",
    "parcels[\"commento\"] = \"non disponibile\"\n",
    "notfound = []\n",
    "for idx, row in df.iterrows():\n",
    "    codice_comune_catastale= row['codice_comune_catastale']\n",
    "    codice_particella = row['codice_particella']  \n",
    "    p = parcels[(parcels.PT_CODE == codice_particella) & (parcels.PT_CCAT == codice_comune_catastale)]  \n",
    "    if p.shape[0] >0:\n",
    "        parcels.at[p.index[0],\"ufficio\"] = row['comune_ammistrativo']\n",
    "        parcels.at[p.index[0],\"comune\"] = getComuneAmministrativo(row['nome_comune_catastale'])\n",
    "        parcels.at[p.index[0],\"catasto\"] = row['nome_comune_catastale']\n",
    "        parcels.at[p.index[0],\"uso1\"] = row['destinazione_uso_1']\n",
    "        parcels.at[p.index[0],\"uso2\"] = row['destinazione_uso_2']\n",
    "        parcels.at[p.index[0],\"commento\"] = row['commento']\n",
    "        parcels.at[p.index[0],\"gestione\"] = row['gestione attuale']\n",
    "        parcels.at[p.index[0],\"'partita_tavolare\"] = row['partita_tavolare']\n",
    "        parcels.at[p.index[0],\"aggiornamento\"] = row['data_ultimo_aggiornamento_dati']\n",
    "        parcels.at[p.index[0],\"ettari\"] = round(p.geometry.area[p.index[0]]/1000,2)\n",
    "    else:\n",
    "        nf = {}\n",
    "        nf['codice_particella'] = codice_particella\n",
    "        nf['codice_comune_catastale'] = codice_comune_catastale\n",
    "        notfound.append(nf)\n",
    "        "
   ]
  },
  {
   "cell_type": "code",
   "execution_count": 7,
   "metadata": {},
   "outputs": [
    {
     "name": "stderr",
     "output_type": "stream",
     "text": [
      "/tmp/ipykernel_32194/1536920151.py:1: DeprecationWarning: ExtensionArray.fillna added a 'copy' keyword in pandas 2.1.0. In a future version, ExtensionArray subclasses will need to implement this keyword or an exception will be raised. In the interim, the keyword is ignored by GeometryArray.\n",
      "  parcels.fillna(\"non disponibile\", inplace=True)\n"
     ]
    }
   ],
   "source": [
    "parcels.fillna(\"non disponibile\", inplace=True)"
   ]
  },
  {
   "cell_type": "code",
   "execution_count": 8,
   "metadata": {},
   "outputs": [],
   "source": [
    "usi_civici = parcels[parcels.comune != \"NO\"]\n",
    "usi_civici=usi_civici.to_crs(epsg=4326)\n",
    "usi_civici.to_file(dest_doc + os.sep + \"usi_civici.geojson\")"
   ]
  },
  {
   "cell_type": "code",
   "execution_count": 9,
   "metadata": {},
   "outputs": [],
   "source": [
    "usi_civici_edifici = usi_civici[usi_civici['PT_CODE'].str.startswith('.')]\n",
    "usi_civici_terreni = usi_civici[~usi_civici['PT_CODE'].str.startswith('.')]"
   ]
  },
  {
   "cell_type": "code",
   "execution_count": 10,
   "metadata": {},
   "outputs": [],
   "source": [
    "pd.DataFrame(notfound).to_excel(dest_doc + os.sep + \"particelle_non_trovate.xlsx\")\n",
    "usi_civici_terreni.to_file(dest_doc + os.sep +\"usi_civici_terreni.geojson\")\n",
    "usi_civici_edifici.to_file(dest_doc + os.sep +\"usi_civici_edifici.geojson\")"
   ]
  }
 ],
 "metadata": {
  "kernelspec": {
   "display_name": "Python 3",
   "language": "python",
   "name": "python3"
  },
  "language_info": {
   "codemirror_mode": {
    "name": "ipython",
    "version": 3
   },
   "file_extension": ".py",
   "mimetype": "text/x-python",
   "name": "python",
   "nbconvert_exporter": "python",
   "pygments_lexer": "ipython3",
   "version": "3.11.6"
  }
 },
 "nbformat": 4,
 "nbformat_minor": 2
}
